{
 "cells": [
  {
   "cell_type": "code",
   "execution_count": 1,
   "id": "a3b69a02-2d2b-477a-bfaa-1ee3baee27e4",
   "metadata": {},
   "outputs": [],
   "source": [
    "import pandas as pd"
   ]
  },
  {
   "cell_type": "code",
   "execution_count": 2,
   "id": "46430c9b-b859-4193-9f39-807c6cdc8b06",
   "metadata": {},
   "outputs": [
    {
     "data": {
      "text/plain": [
       "['Istanbul', 'Izmir', 'Ankara', 'Bursa']"
      ]
     },
     "execution_count": 2,
     "metadata": {},
     "output_type": "execute_result"
    }
   ],
   "source": [
    "my_idx=['Istanbul','Izmir','Ankara','Bursa']\n",
    "my_idx"
   ]
  },
  {
   "cell_type": "code",
   "execution_count": 3,
   "id": "6302c454-3cd8-48a7-8e0a-096fb375e92f",
   "metadata": {},
   "outputs": [
    {
     "data": {
      "text/plain": [
       "[15.4, 4.3, 5.6, 3]"
      ]
     },
     "execution_count": 3,
     "metadata": {},
     "output_type": "execute_result"
    }
   ],
   "source": [
    "my_data=[15.4,4.3,5.6,3]\n",
    "my_data"
   ]
  },
  {
   "cell_type": "code",
   "execution_count": 4,
   "id": "075656b1-cd2b-4f30-a310-2a7766235dda",
   "metadata": {},
   "outputs": [
    {
     "data": {
      "text/plain": [
       "Istanbul    15.4\n",
       "Izmir        4.3\n",
       "Ankara       5.6\n",
       "Bursa        3.0\n",
       "dtype: float64"
      ]
     },
     "execution_count": 4,
     "metadata": {},
     "output_type": "execute_result"
    }
   ],
   "source": [
    "pd.Series(my_data,my_idx)"
   ]
  },
  {
   "cell_type": "code",
   "execution_count": null,
   "id": "7d092ab7-ccc6-451e-9cf6-c7aeafdf29f2",
   "metadata": {},
   "outputs": [],
   "source": [
    "#series with dictionary"
   ]
  },
  {
   "cell_type": "code",
   "execution_count": 34,
   "id": "9233a80a-847a-4d12-859d-d7bcf72507b8",
   "metadata": {},
   "outputs": [
    {
     "data": {
      "text/plain": [
       "{'Istanbul': 15.4, 'Izmir': 4.3, 'Ankara': 5.6, 'Bursa': 3}"
      ]
     },
     "execution_count": 34,
     "metadata": {},
     "output_type": "execute_result"
    }
   ],
   "source": [
    "q1={\n",
    "    'Istanbul': 15.4,\n",
    "    'Izmir':4.3,\n",
    "    'Ankara':5.6,\n",
    "    'Bursa':3\n",
    "}\n",
    "q1"
   ]
  },
  {
   "cell_type": "code",
   "execution_count": 38,
   "id": "5adbbba7-f24f-4f08-8bc1-6d773dd993fa",
   "metadata": {},
   "outputs": [
    {
     "data": {
      "text/plain": [
       "Istanbul    15.4\n",
       "Izmir        4.3\n",
       "Ankara       5.6\n",
       "Bursa        3.0\n",
       "dtype: float64"
      ]
     },
     "execution_count": 38,
     "metadata": {},
     "output_type": "execute_result"
    }
   ],
   "source": [
    "sales_q1=pd.Series(data=q1)\n",
    "sales_q1"
   ]
  },
  {
   "cell_type": "code",
   "execution_count": 36,
   "id": "3b16a2a0-dcc5-4f1e-9f21-52a7687079ab",
   "metadata": {},
   "outputs": [
    {
     "data": {
      "text/plain": [
       "{'Istanbul': 1.4, 'Rize': 4.3, 'Ankara': 9.6, 'Ordu': 3.9, 'Van': 4.5}"
      ]
     },
     "execution_count": 36,
     "metadata": {},
     "output_type": "execute_result"
    }
   ],
   "source": [
    "q2={'Istanbul': 1.4, 'Rize': 4.3, 'Ankara': 9.6, 'Ordu': 3.9, 'Van': 4.5}\n",
    "q2"
   ]
  },
  {
   "cell_type": "code",
   "execution_count": 39,
   "id": "15677027-be29-43a0-97b0-f2ab194bead5",
   "metadata": {},
   "outputs": [
    {
     "data": {
      "text/plain": [
       "Istanbul    1.4\n",
       "Rize        4.3\n",
       "Ankara      9.6\n",
       "Ordu        3.9\n",
       "Van         4.5\n",
       "dtype: float64"
      ]
     },
     "execution_count": 39,
     "metadata": {},
     "output_type": "execute_result"
    }
   ],
   "source": [
    "sales_q2=pd.Series(q2)\n",
    "sales_q2"
   ]
  },
  {
   "cell_type": "code",
   "execution_count": null,
   "id": "66556fa2-42c6-4f90-9e64-00d59a42127c",
   "metadata": {},
   "outputs": [],
   "source": [
    "#.add(),fill.value"
   ]
  },
  {
   "cell_type": "code",
   "execution_count": 42,
   "id": "087b2039-bbbd-4252-9f6b-c8490223d45a",
   "metadata": {},
   "outputs": [
    {
     "data": {
      "text/plain": [
       "Ankara      15.2\n",
       "Bursa        NaN\n",
       "Istanbul    16.8\n",
       "Izmir        NaN\n",
       "Ordu         NaN\n",
       "Rize         NaN\n",
       "Van          NaN\n",
       "dtype: float64"
      ]
     },
     "execution_count": 42,
     "metadata": {},
     "output_type": "execute_result"
    }
   ],
   "source": [
    "total_sales=sales_q1+sales_q2\n",
    "total_sales"
   ]
  },
  {
   "cell_type": "code",
   "execution_count": 45,
   "id": "f101955f-2999-402b-88dc-fc2b6fd1ae4c",
   "metadata": {},
   "outputs": [
    {
     "data": {
      "text/plain": [
       "Ankara      15.2\n",
       "Bursa        3.0\n",
       "Istanbul    16.8\n",
       "Izmir        4.3\n",
       "Ordu         3.9\n",
       "Rize         4.3\n",
       "Van          4.5\n",
       "dtype: float64"
      ]
     },
     "execution_count": 45,
     "metadata": {},
     "output_type": "execute_result"
    }
   ],
   "source": [
    "total_sales=sales_q1.add(sales_q2,fill_value=0)\n",
    "total_sales"
   ]
  },
  {
   "cell_type": "code",
   "execution_count": null,
   "id": "18f3a4b3-43ed-4325-a6f3-eb1a135a8d81",
   "metadata": {},
   "outputs": [],
   "source": []
  },
  {
   "cell_type": "code",
   "execution_count": 48,
   "id": "c30bc0c7-3c84-4de9-bb4b-6da495d108d1",
   "metadata": {},
   "outputs": [
    {
     "data": {
      "text/plain": [
       "a    1\n",
       "b    2\n",
       "c    4\n",
       "dtype: int64"
      ]
     },
     "execution_count": 48,
     "metadata": {},
     "output_type": "execute_result"
    }
   ],
   "source": [
    "my_dict={'a': 1,'b': 2,'c':4}\n",
    "count_1=pd.Series(my_dict)\n",
    "count_1"
   ]
  },
  {
   "cell_type": "code",
   "execution_count": 50,
   "id": "5921e676-ac44-440b-8ce8-139bf8b89c81",
   "metadata": {},
   "outputs": [
    {
     "data": {
      "text/plain": [
       "p    3\n",
       "a    5\n",
       "c    6\n",
       "dtype: int64"
      ]
     },
     "execution_count": 50,
     "metadata": {},
     "output_type": "execute_result"
    }
   ],
   "source": [
    "my_dict2={'p':3,'a':5,'c':6}\n",
    "count_2=pd.Series(my_dict2)\n",
    "count_2"
   ]
  },
  {
   "cell_type": "code",
   "execution_count": 52,
   "id": "ce944021-20a0-48c2-afad-005faa5a6905",
   "metadata": {},
   "outputs": [
    {
     "data": {
      "text/plain": [
       "a     6.0\n",
       "b     2.0\n",
       "c    10.0\n",
       "p     3.0\n",
       "dtype: float64"
      ]
     },
     "execution_count": 52,
     "metadata": {},
     "output_type": "execute_result"
    }
   ],
   "source": [
    "count_1.add(count_2,fill_value=0)"
   ]
  },
  {
   "cell_type": "code",
   "execution_count": 53,
   "id": "a15a2790-bfc0-4ba0-99ab-45a08f269798",
   "metadata": {},
   "outputs": [
    {
     "data": {
      "text/plain": [
       "name         Zarema\n",
       "surname    Dibirova\n",
       "Age              26\n",
       "dtype: object"
      ]
     },
     "execution_count": 53,
     "metadata": {},
     "output_type": "execute_result"
    }
   ],
   "source": [
    "my_series=pd.Series({'name': 'Zarema','surname': 'Dibirova','Age':26})\n",
    "my_series"
   ]
  }
 ],
 "metadata": {
  "kernelspec": {
   "display_name": "Python 3 (ipykernel)",
   "language": "python",
   "name": "python3"
  },
  "language_info": {
   "codemirror_mode": {
    "name": "ipython",
    "version": 3
   },
   "file_extension": ".py",
   "mimetype": "text/x-python",
   "name": "python",
   "nbconvert_exporter": "python",
   "pygments_lexer": "ipython3",
   "version": "3.12.4"
  }
 },
 "nbformat": 4,
 "nbformat_minor": 5
}
